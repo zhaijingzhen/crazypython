{
 "cells": [
  {
   "cell_type": "raw",
   "metadata": {},
   "source": [
    "print('----2020扬州市征兵信息记录表----')\n",
    "print('你可以输入【录入】增加新兵信息登记')\n",
    "print('你可以输入【查找】查找指定新兵信息')\n",
    "print('你可以输入【修改】更改指定新兵信息')\n",
    "print('你可以输入【筛选】查看某类新兵信息')\n",
    "msg = []\n",
    "while input != quit:\n",
    "    start = input('请输入操作指令')\n",
    "    if start == '录入':\n",
    "        name= input('请输入应征者姓名')\n",
    "        sex = input('请输入应征者性别')\n",
    "        age = input('请输入应征者年龄')\n",
    "        sta = input('请输入应征者星座')\n",
    "        spe = input('请输入应征者特长')\n",
    "        info = [name,sex,age,sta,spe]\n",
    "        msg.append(info)\n",
    "        print('2020扬州市征兵信息记录表已更新一条记录')\n",
    "        for info in msg:\n",
    "            print(info)\n",
    "    elif start == '查找':\n",
    "        \n",
    "        search = input('请输入新兵姓名，查找相关信息')  \n",
    "        for info[0] in msg:\n",
    "            if search == name:\n",
    "                print('已找到此人信息如下')\n",
    "                print(info[0],info[1],info[2],info[3])\n",
    "            else:\n",
    "                print('查无此人')"
   ]
  },
  {
   "cell_type": "code",
   "execution_count": null,
   "metadata": {},
   "outputs": [],
   "source": []
  }
 ],
 "metadata": {
  "kernelspec": {
   "display_name": "Python 3",
   "language": "python",
   "name": "python3"
  },
  "language_info": {
   "codemirror_mode": {
    "name": "ipython",
    "version": 3
   },
   "file_extension": ".py",
   "mimetype": "text/x-python",
   "name": "python",
   "nbconvert_exporter": "python",
   "pygments_lexer": "ipython3",
   "version": "3.7.6"
  }
 },
 "nbformat": 4,
 "nbformat_minor": 2
}
