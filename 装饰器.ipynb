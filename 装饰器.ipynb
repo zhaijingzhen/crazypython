{
 "cells": [
  {
   "cell_type": "code",
   "execution_count": 4,
   "metadata": {},
   "outputs": [
    {
     "name": "stdout",
     "output_type": "stream",
     "text": [
      "myfunc is myfunc\n",
      "##############################\n",
      "myfunc is wrapper\n",
      "myfunc start……\n",
      "myfunc end……\n",
      "it's 2000.837564 ms\n"
     ]
    }
   ],
   "source": [
    "#装饰器例子，用于理解的例子\n",
    "\n",
    "#用函数传递实现装饰器的作用\n",
    "import time\n",
    "\n",
    "def deco(func):\n",
    "    def wrapper():\n",
    "        startT = time.time()\n",
    "        func()\n",
    "        endT = time.time()\n",
    "        msecs = (endT - startT) * 1000\n",
    "        print(\"it's %f ms\" %msecs)\n",
    "    return wrapper\n",
    "\n",
    "def myfunc():\n",
    "    print('myfunc start……')\n",
    "    time.sleep(2)\n",
    "    print('myfunc end……')\n",
    "\n",
    "print(\"myfunc is\",myfunc.__name__)\n",
    "myfunc = deco(myfunc)\n",
    "print('#'*30)\n",
    "print(\"myfunc is\",myfunc.__name__)\n",
    "myfunc()"
   ]
  },
  {
   "cell_type": "code",
   "execution_count": 5,
   "metadata": {},
   "outputs": [
    {
     "name": "stdout",
     "output_type": "stream",
     "text": [
      "myfunc is wrapper\n",
      "##############################\n",
      "myfunc is wrapper\n",
      "myfunc start……\n",
      "myfunc end……\n",
      "it's 2000.835419 ms\n"
     ]
    }
   ],
   "source": [
    "#装饰器例子，用于理解的例子\n",
    "\n",
    "#用函数传递实现装饰器的作用\n",
    "import time\n",
    "\n",
    "def deco(func):\n",
    "    def wrapper():\n",
    "        startT = time.time()\n",
    "        func()\n",
    "        endT = time.time()\n",
    "        msecs = (endT - startT) * 1000\n",
    "        print(\"it's %f ms\" %msecs)\n",
    "    return wrapper\n",
    "@deco\n",
    "def myfunc():\n",
    "    print('myfunc start……')\n",
    "    time.sleep(2)\n",
    "    print('myfunc end……')\n",
    "\n",
    "print(\"myfunc is\",myfunc.__name__)\n",
    "print('#'*30)\n",
    "print(\"myfunc is\",myfunc.__name__)\n",
    "myfunc()"
   ]
  },
  {
   "cell_type": "code",
   "execution_count": null,
   "metadata": {},
   "outputs": [],
   "source": []
  }
 ],
 "metadata": {
  "kernelspec": {
   "display_name": "Python 3",
   "language": "python",
   "name": "python3"
  },
  "language_info": {
   "codemirror_mode": {
    "name": "ipython",
    "version": 3
   },
   "file_extension": ".py",
   "mimetype": "text/x-python",
   "name": "python",
   "nbconvert_exporter": "python",
   "pygments_lexer": "ipython3",
   "version": "3.7.6"
  }
 },
 "nbformat": 4,
 "nbformat_minor": 2
}
