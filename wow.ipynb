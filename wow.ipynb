{
 "cells": [
  {
   "cell_type": "code",
   "execution_count": 1,
   "metadata": {},
   "outputs": [
    {
     "name": "stdout",
     "output_type": "stream",
     "text": "彩笔，欢迎来到艾泽拉斯的世界。\n下面，请跟我一起，建立你的游戏账号\n恭喜你，彩笔！你已经成功注册，请牢记你的账号和密码\n你的登录账号是： \n你的登录密码是： \n————————————————————\n接下来，请创建你的第一个角色吧！\n【可选阵营】 部落|联盟\n—————\n【可选种族】 人类|暗夜精灵|矮人|德莱尼|侏儒|狼人\n—————\n【可选职业】 法师|猎人|盗贼|战士|术士|死亡骑士|圣骑士|德鲁伊|牧师|\n————————————————————\n————————————————————\n恭喜，你的角色已创建成功！\n角色Id： \n阵营： \n种族： \n职业： \n点击传送门，马上开始打怪升级，与燃烧军团决一死战！\n"
    }
   ],
   "source": [
    "print('彩笔，欢迎来到艾泽拉斯的世界。')\n",
    "print('下面，请跟我一起，建立你的游戏账号')\n",
    "caibi_Login_Name = input('请输入登录账户名，由字母和数字组成')\n",
    "caibi_Login_Password = input('请输入登录密码，6位以上数字和字母组成')\n",
    "print('恭喜你，彩笔！你已经成功注册，请牢记你的账号和密码')\n",
    "print('你的登录账号是：',caibi_Login_Name)\n",
    "print('你的登录密码是：',caibi_Login_Password)\n",
    "print('————————————————————')\n",
    "\n",
    "print('接下来，请创建你的第一个角色吧！')\n",
    "caibi_First_Id = input('请输入一个炫酷的游戏id：')\n",
    "print('【可选阵营】 部落|联盟')      \n",
    "caibi_First_Id_zhenying = input('请为你的角色选择一个阵营：')\n",
    "print('—————')\n",
    "if caibi_First_Id_zhenying == '部落':\n",
    "    print('【可选种族】 兽人|牛头人|血精灵|亡灵|巨魔|地精')      \n",
    "    caibi_First_Id_zhongzu = input('请为你的角色选择一个种族：')\n",
    "else:\n",
    "    print('【可选种族】 人类|暗夜精灵|矮人|德莱尼|侏儒|狼人')      \n",
    "    caibi_First_Id_zhongzu = input('请为你的角色选择一个种族：')\n",
    "print('—————')\n",
    "print('【可选职业】 法师|猎人|盗贼|战士|术士|死亡骑士|圣骑士|德鲁伊|牧师|')      \n",
    "caibi_First_Id_zhiye = input('请为你的角色选择一个职业：')\n",
    "print('————————————————————')\n",
    "print('————————————————————')\n",
    "      \n",
    "print('恭喜，你的角色已创建成功！')\n",
    "print('角色Id：',caibi_First_Id)\n",
    "print('阵营：',caibi_First_Id_zhenying)\n",
    "print('种族：',caibi_First_Id_zhongzu)\n",
    "print('职业：',caibi_First_Id_zhiye)\n",
    "\n",
    "print('点击传送门，马上开始打怪升级，与燃烧军团决一死战！')\n"
   ]
  },
  {
   "cell_type": "code",
   "execution_count": null,
   "metadata": {},
   "outputs": [],
   "source": []
  }
 ],
 "metadata": {
  "kernelspec": {
   "display_name": "Python 3.7.6 64-bit",
   "language": "python",
   "name": "python37664bit3a38738d7de04b34bc585784057e4208"
  },
  "language_info": {
   "codemirror_mode": {
    "name": "ipython",
    "version": 3
   },
   "file_extension": ".py",
   "mimetype": "text/x-python",
   "name": "python",
   "nbconvert_exporter": "python",
   "pygments_lexer": "ipython3",
   "version": "3.7.6-final"
  }
 },
 "nbformat": 4,
 "nbformat_minor": 2
}