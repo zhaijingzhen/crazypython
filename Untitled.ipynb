{
 "cells": [
  {
   "cell_type": "code",
   "execution_count": null,
   "metadata": {},
   "outputs": [],
   "source": [
    "s1 = input('请随便输入一大堆字母')\n",
    "i = 0\n",
    "j = 1\n",
    "if s1[i] == 'f':\n",
    "    print('f的第',j,'个索引是',i)\n",
    "    i = i + 1\n",
    "    j = j + 1"
   ]
  },
  {
   "cell_type": "code",
   "execution_count": null,
   "metadata": {},
   "outputs": [],
   "source": [
    "s1.find('f')\n"
   ]
  },
  {
   "cell_type": "code",
   "execution_count": null,
   "metadata": {},
   "outputs": [],
   "source": [
    "s1.find('r')\n"
   ]
  },
  {
   "cell_type": "code",
   "execution_count": null,
   "metadata": {},
   "outputs": [],
   "source": [
    "s1.find('i')\n"
   ]
  },
  {
   "cell_type": "code",
   "execution_count": null,
   "metadata": {},
   "outputs": [],
   "source": [
    "s1.find('e')\n"
   ]
  },
  {
   "cell_type": "code",
   "execution_count": null,
   "metadata": {},
   "outputs": [],
   "source": [
    "s1.find('n')\n"
   ]
  },
  {
   "cell_type": "code",
   "execution_count": null,
   "metadata": {},
   "outputs": [],
   "source": [
    "s1.find('d')"
   ]
  },
  {
   "cell_type": "code",
   "execution_count": null,
   "metadata": {},
   "outputs": [],
   "source": [
    "friend = [s1.find('f'),s1.find('r'),s1.find('i'),s1.find('e'),s1.find('n'),s1.find('d')]"
   ]
  },
  {
   "cell_type": "code",
   "execution_count": null,
   "metadata": {},
   "outputs": [],
   "source": [
    "friend"
   ]
  },
  {
   "cell_type": "code",
   "execution_count": null,
   "metadata": {},
   "outputs": [],
   "source": [
    "In [15]:sum = 0\n",
    "    for i in range(1,100):\n",
    "    ...:    if i % 3 == 0 or i % 5 ==0 :\n",
    "            sum = sum + i\n",
    "            print(sum)"
   ]
  },
  {
   "cell_type": "code",
   "execution_count": null,
   "metadata": {},
   "outputs": [],
   "source": [
    "sum = 0\n",
    "for i in range(1,100):\n",
    "    if i % 3 == 0 or i % 5 ==0 :\n",
    "        sum = sum + i\n",
    "print(sum)"
   ]
  },
  {
   "cell_type": "code",
   "execution_count": null,
   "metadata": {},
   "outputs": [],
   "source": [
    "print('----2020扬州市征兵信息记录表----')\n",
    "print('你可以输入【录入】增加新兵信息登记')\n",
    "print('你可以输入【查找】查找指定新兵信息')\n",
    "print('你可以输入【修改】更改指定新兵信息')\n",
    "print('你可以输入【筛选】查看某类新兵信息')\n",
    "msg = []\n",
    "while input != quit:\n",
    "    start = input('请输入操作指令')\n",
    "    if start == '录入':\n",
    "        name= input('请输入应征者姓名')\n",
    "        sex = input('请输入应征者性别')\n",
    "        age = input('请输入应征者年龄')\n",
    "        sta = input('请输入应征者星座')\n",
    "        spe = input('请输入应征者特长')\n",
    "        info = [name,sex,age,sta,spe]\n",
    "        msg.append(info)\n",
    "        print('2020扬州市征兵信息记录表已更新一条记录')\n",
    "        for info in msg:\n",
    "            print(info)\n",
    "    elif start == '查找':\n",
    "        search = input('请输入新兵姓名，查找相关信息')\n",
    "        for info in msg:\n",
    "            for name in info:\n",
    "                if name == search:\n",
    "                    print('已查找到新兵',search,'信息如下：')\n",
    "                    print(info)\n",
    "                    break\n",
    "        else:\n",
    "            print('查无此人')\n",
    "    elif start == '修改':\n",
    "        change = input('请输入要修改信息的新兵姓名')\n",
    "        for info in msg:\n",
    "            for name in info:\n",
    "                if name == change:\n",
    "                    print('已查找到新兵',change,'信息如下：')\n",
    "                    print(info)\n",
    "                    loc = msg.index(info)\n",
    "                    loc = int(loc)\n",
    "                    print('请修改该新兵信息》》》')\n",
    "                    msg[loc[0]]= input('请输入应征者姓名')\n",
    "                    msg[loc[1]] = input('请输入应征者性别')\n",
    "                    msg[loc[2]] = input('请输入应征者年龄')\n",
    "                    msg[loc[3]] = input('请输入应征者星座')\n",
    "                    msg[loc[4]] = input('请输入应征者特长')\n",
    "                    print('2020扬州市征兵信息记录表已更新一条记录')\n",
    "                    for info in msg:\n",
    "                        print(info)\n",
    "                    \n",
    "            else:\n",
    "                print('查无此人，请录入新兵信息》》》')\n",
    "                name= input('请输入应征者姓名')\n",
    "                sex = input('请输入应征者性别')\n",
    "                age = input('请输入应征者年龄')\n",
    "                sta = input('请输入应征者星座')\n",
    "                spe = input('请输入应征者特长')\n",
    "                info = [name,sex,age,sta,spe]\n",
    "                msg.append(infio)\n",
    "                print('2020扬州市征兵信息记录表已更新一条记录')\n",
    "                for info in msg:\n",
    "                    print(info)\n",
    "    elif start == '筛选':\n",
    "        pick = input('请输入筛选条件')\n",
    "        pass"
   ]
  },
  {
   "cell_type": "code",
   "execution_count": 3,
   "metadata": {},
   "outputs": [
    {
     "data": {
      "text/plain": [
       "'1####2####3'"
      ]
     },
     "execution_count": 3,
     "metadata": {},
     "output_type": "execute_result"
    }
   ],
   "source": [
    "List_name = ['1','2','3']\n",
    "'####'.join(List_name)"
   ]
  },
  {
   "cell_type": "code",
   "execution_count": 15,
   "metadata": {},
   "outputs": [
    {
     "data": {
      "text/plain": [
       "'1>>>>2>>>>3>>>>4>>>>5>>>>6>>>>7>>>>8>>>>9'"
      ]
     },
     "execution_count": 15,
     "metadata": {},
     "output_type": "execute_result"
    }
   ],
   "source": [
    "a = [1,2,3,4,5,6,7,8,9]\n",
    "b= [str(i) for i in a]\n",
    "'$'.join([str(i) for i in a])"
   ]
  },
  {
   "cell_type": "code",
   "execution_count": 11,
   "metadata": {},
   "outputs": [
    {
     "name": "stdout",
     "output_type": "stream",
     "text": [
      "range(0, 10)\n"
     ]
    }
   ],
   "source": [
    "a = []\n",
    "a = range(10)\n",
    "print(a)"
   ]
  },
  {
   "cell_type": "code",
   "execution_count": 22,
   "metadata": {},
   "outputs": [
    {
     "name": "stdout",
     "output_type": "stream",
     "text": [
      "请输入第一个数15\n",
      "请输入【+】【-】【*】【/】+\n",
      "请输入第二个数66\n",
      "81\n"
     ]
    }
   ],
   "source": [
    "x = int(input('请输入第一个数'))\n",
    "o = input('请输入【+】【-】【*】【/】')\n",
    "y = int(input('请输入第二个数'))\n",
    "operator = {'+':x+y, '-':x-y, '*':x*y, '/':x/y}\n",
    "result = operator.get(o,'请输入【+】【-】【*】【/】')\n",
    "print(result)"
   ]
  },
  {
   "cell_type": "code",
   "execution_count": 20,
   "metadata": {},
   "outputs": [
    {
     "data": {
      "text/plain": [
       "['__class__',\n",
       " '__contains__',\n",
       " '__delattr__',\n",
       " '__delitem__',\n",
       " '__dir__',\n",
       " '__doc__',\n",
       " '__eq__',\n",
       " '__format__',\n",
       " '__ge__',\n",
       " '__getattribute__',\n",
       " '__getitem__',\n",
       " '__gt__',\n",
       " '__hash__',\n",
       " '__init__',\n",
       " '__init_subclass__',\n",
       " '__iter__',\n",
       " '__le__',\n",
       " '__len__',\n",
       " '__lt__',\n",
       " '__ne__',\n",
       " '__new__',\n",
       " '__reduce__',\n",
       " '__reduce_ex__',\n",
       " '__repr__',\n",
       " '__setattr__',\n",
       " '__setitem__',\n",
       " '__sizeof__',\n",
       " '__str__',\n",
       " '__subclasshook__',\n",
       " 'clear',\n",
       " 'copy',\n",
       " 'fromkeys',\n",
       " 'get',\n",
       " 'items',\n",
       " 'keys',\n",
       " 'pop',\n",
       " 'popitem',\n",
       " 'setdefault',\n",
       " 'update',\n",
       " 'values']"
      ]
     },
     "execution_count": 20,
     "metadata": {},
     "output_type": "execute_result"
    }
   ],
   "source": [
    "dir(dict)"
   ]
  },
  {
   "cell_type": "code",
   "execution_count": 21,
   "metadata": {},
   "outputs": [
    {
     "data": {
      "text/plain": [
       "['__add__',\n",
       " '__class__',\n",
       " '__contains__',\n",
       " '__delattr__',\n",
       " '__delitem__',\n",
       " '__dir__',\n",
       " '__doc__',\n",
       " '__eq__',\n",
       " '__format__',\n",
       " '__ge__',\n",
       " '__getattribute__',\n",
       " '__getitem__',\n",
       " '__gt__',\n",
       " '__hash__',\n",
       " '__iadd__',\n",
       " '__imul__',\n",
       " '__init__',\n",
       " '__init_subclass__',\n",
       " '__iter__',\n",
       " '__le__',\n",
       " '__len__',\n",
       " '__lt__',\n",
       " '__mul__',\n",
       " '__ne__',\n",
       " '__new__',\n",
       " '__reduce__',\n",
       " '__reduce_ex__',\n",
       " '__repr__',\n",
       " '__reversed__',\n",
       " '__rmul__',\n",
       " '__setattr__',\n",
       " '__setitem__',\n",
       " '__sizeof__',\n",
       " '__str__',\n",
       " '__subclasshook__',\n",
       " 'append',\n",
       " 'clear',\n",
       " 'copy',\n",
       " 'count',\n",
       " 'extend',\n",
       " 'index',\n",
       " 'insert',\n",
       " 'pop',\n",
       " 'remove',\n",
       " 'reverse',\n",
       " 'sort']"
      ]
     },
     "execution_count": 21,
     "metadata": {},
     "output_type": "execute_result"
    }
   ],
   "source": [
    "dir(list)"
   ]
  },
  {
   "cell_type": "code",
   "execution_count": 23,
   "metadata": {},
   "outputs": [
    {
     "data": {
      "text/plain": [
       "{'l', 'o'}"
      ]
     },
     "execution_count": 23,
     "metadata": {},
     "output_type": "execute_result"
    }
   ],
   "source": [
    "X = set('hello')\n",
    "Y = set('world')\n",
    "X&Y"
   ]
  },
  {
   "cell_type": "code",
   "execution_count": 24,
   "metadata": {},
   "outputs": [
    {
     "data": {
      "text/plain": [
       "{'d', 'e', 'h', 'l', 'o', 'r', 'w'}"
      ]
     },
     "execution_count": 24,
     "metadata": {},
     "output_type": "execute_result"
    }
   ],
   "source": [
    "X|Y"
   ]
  },
  {
   "cell_type": "code",
   "execution_count": 25,
   "metadata": {},
   "outputs": [
    {
     "data": {
      "text/plain": [
       "{'e', 'h'}"
      ]
     },
     "execution_count": 25,
     "metadata": {},
     "output_type": "execute_result"
    }
   ],
   "source": [
    "X-Y"
   ]
  },
  {
   "cell_type": "code",
   "execution_count": 26,
   "metadata": {},
   "outputs": [
    {
     "data": {
      "text/plain": [
       "{'d', 'r', 'w'}"
      ]
     },
     "execution_count": 26,
     "metadata": {},
     "output_type": "execute_result"
    }
   ],
   "source": [
    "Y-X"
   ]
  },
  {
   "cell_type": "code",
   "execution_count": null,
   "metadata": {},
   "outputs": [],
   "source": []
  }
 ],
 "metadata": {
  "kernelspec": {
   "display_name": "Python 3",
   "language": "python",
   "name": "python3"
  },
  "language_info": {
   "codemirror_mode": {
    "name": "ipython",
    "version": 3
   },
   "file_extension": ".py",
   "mimetype": "text/x-python",
   "name": "python",
   "nbconvert_exporter": "python",
   "pygments_lexer": "ipython3",
   "version": "3.7.6"
  }
 },
 "nbformat": 4,
 "nbformat_minor": 2
}
